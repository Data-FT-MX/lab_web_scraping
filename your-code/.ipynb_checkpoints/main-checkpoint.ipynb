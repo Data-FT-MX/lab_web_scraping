{
 "cells": [
  {
   "cell_type": "markdown",
   "metadata": {},
   "source": [
    "# Web Scraping Lab\n",
    "\n",
    "You will find in this notebook some scrapy exercises to practise your scraping skills.\n",
    "\n",
    "**Tips:**\n",
    "\n",
    "- Check the response status code for each request to ensure you have obtained the intended contennt.\n",
    "- Print the response text in each request to understand the kind of info you are getting and its format.\n",
    "- Check for patterns in the response text to extract the data/info requested in each question.\n",
    "- Visit each url and take a look at its source through Chrome DevTools. You'll need to identify the html tags, special class names etc. used for the html content you are expected to extract."
   ]
  },
  {
   "cell_type": "markdown",
   "metadata": {},
   "source": [
    "- [Requests library](http://docs.python-requests.org/en/master/#the-user-guide) documentation \n",
    "- [Beautiful Soup Doc](https://www.crummy.com/software/BeautifulSoup/bs4/doc/)\n",
    "- [Urllib](https://docs.python.org/3/library/urllib.html#module-urllib)\n",
    "- [re lib](https://docs.python.org/3/library/re.html)\n",
    "- [lxml lib](https://lxml.de/)\n",
    "- [Scrapy](https://scrapy.org/)\n",
    "- [List of HTTP status codes](https://en.wikipedia.org/wiki/List_of_HTTP_status_codes)\n",
    "- [HTML basics](http://www.simplehtmlguide.com/cheatsheet.php)\n",
    "- [CSS basics](https://www.cssbasics.com/#page_start)"
   ]
  },
  {
   "cell_type": "markdown",
   "metadata": {},
   "source": [
    "#### Below are the libraries and modules you may need. `requests`,  `BeautifulSoup` and `pandas` are imported for you. If you prefer to use additional libraries feel free to uncomment them."
   ]
  },
  {
   "cell_type": "code",
   "execution_count": 56,
   "metadata": {},
   "outputs": [],
   "source": [
    "import requests\n",
    "from bs4 import BeautifulSoup\n",
    "import pandas as pd\n",
    "from pprint import pprint\n",
    "from lxml import html\n",
    "from lxml.html import fromstring\n",
    "import urllib.request\n",
    "from urllib.request import urlopen\n",
    "import random\n",
    "import re\n",
    "#import scrapy"
   ]
  },
  {
   "cell_type": "markdown",
   "metadata": {},
   "source": [
    "#### Download, parse (using BeautifulSoup), and print the content from the Trending Developers page from GitHub:"
   ]
  },
  {
   "cell_type": "code",
   "execution_count": 4,
   "metadata": {},
   "outputs": [],
   "source": [
    "# This is the url you will scrape in this exercise\n",
    "url = 'https://github.com/trending/developers'"
   ]
  },
  {
   "cell_type": "code",
   "execution_count": 5,
   "metadata": {},
   "outputs": [],
   "source": [
    "#your code\n",
    "html = requests.get(url).content\n",
    "response = requests.get(url)\n",
    "response\n",
    "contenido = response.content\n",
    "#print(contenido)"
   ]
  },
  {
   "cell_type": "code",
   "execution_count": 6,
   "metadata": {},
   "outputs": [],
   "source": [
    "soup = BeautifulSoup(contenido, 'lxml')\n",
    "#soup"
   ]
  },
  {
   "cell_type": "markdown",
   "metadata": {},
   "source": [
    "#### Display the names of the trending developers retrieved in the previous step.\n",
    "\n",
    "Your output should be a Python list of developer names. Each name should not contain any html tag.\n",
    "\n",
    "**Instructions:**\n",
    "\n",
    "1. Find out the html tag and class names used for the developer names. You can achieve this using Chrome DevTools.\n",
    "\n",
    "1. Use BeautifulSoup to extract all the html elements that contain the developer names.\n",
    "\n",
    "1. Use string manipulation techniques to replace whitespaces and linebreaks (i.e. `\\n`) in the *text* of each html element. Use a list to store the clean names.\n",
    "\n",
    "1. Print the list of names.\n",
    "\n",
    "Your output should look like below:\n",
    "\n",
    "```\n",
    "['trimstray (@trimstray)',\n",
    " 'joewalnes (JoeWalnes)',\n",
    " 'charlax (Charles-AxelDein)',\n",
    " 'ForrestKnight (ForrestKnight)',\n",
    " 'revery-ui (revery-ui)',\n",
    " 'alibaba (Alibaba)',\n",
    " 'Microsoft (Microsoft)',\n",
    " 'github (GitHub)',\n",
    " 'facebook (Facebook)',\n",
    " 'boazsegev (Bo)',\n",
    " 'google (Google)',\n",
    " 'cloudfetch',\n",
    " 'sindresorhus (SindreSorhus)',\n",
    " 'tensorflow',\n",
    " 'apache (TheApacheSoftwareFoundation)',\n",
    " 'DevonCrawford (DevonCrawford)',\n",
    " 'ARMmbed (ArmMbed)',\n",
    " 'vuejs (vuejs)',\n",
    " 'fastai (fast.ai)',\n",
    " 'QiShaoXuan (Qi)',\n",
    " 'joelparkerhenderson (JoelParkerHenderson)',\n",
    " 'torvalds (LinusTorvalds)',\n",
    " 'CyC2018',\n",
    " 'komeiji-satori (神楽坂覚々)',\n",
    " 'script-8']\n",
    " ```"
   ]
  },
  {
   "cell_type": "code",
   "execution_count": 7,
   "metadata": {},
   "outputs": [
    {
     "data": {
      "text/plain": [
       "25"
      ]
     },
     "execution_count": 7,
     "metadata": {},
     "output_type": "execute_result"
    }
   ],
   "source": [
    "#your code\n",
    "#1. Find out the html tag and class names used for the developer names. You can achieve this using Chrome DevTools.\n",
    "tag_class_developper = soup.select(\"h1[class='h3 lh-condensed']\")\n",
    "#tag_class_developper\n",
    "\n",
    "name_title = [el.text for el in tag_class_developper]\n",
    "#name_title\n",
    "\n",
    "clean_name = [names.strip() for names in name_title]\n",
    "#clean_name\n",
    "\n",
    "len(name_title)"
   ]
  },
  {
   "cell_type": "markdown",
   "metadata": {},
   "source": [
    "#### Display the trending Python repositories in GitHub\n",
    "\n",
    "The steps to solve this problem is similar to the previous one except that you need to find out the repository names instead of developer names."
   ]
  },
  {
   "cell_type": "code",
   "execution_count": 8,
   "metadata": {},
   "outputs": [],
   "source": [
    "# This is the url you will scrape in this exercise\n",
    "url = 'https://github.com/trending/python?since=daily'"
   ]
  },
  {
   "cell_type": "code",
   "execution_count": 9,
   "metadata": {},
   "outputs": [],
   "source": [
    "#your code\n",
    "html = requests.get(url).content\n",
    "response = requests.get(url)\n",
    "response\n",
    "contenido = response.content\n",
    "#print(contenido)"
   ]
  },
  {
   "cell_type": "code",
   "execution_count": 10,
   "metadata": {},
   "outputs": [],
   "source": [
    "soup = BeautifulSoup(contenido, 'lxml') #visualizing the content\n",
    "#soup"
   ]
  },
  {
   "cell_type": "code",
   "execution_count": 11,
   "metadata": {},
   "outputs": [],
   "source": [
    "repos = soup.select(\"h1[class='h3 lh-condensed']\") #filter out the tag and class\n",
    "#print(repos)\n",
    "\n",
    "repos_name = [repo.text for repo in repos] #getting the text of the repo\n",
    "#print(repos_name)\n",
    "\n",
    "clean_repos = [el.strip() for el in repos_name] #cleaning the list\n",
    "#print(clean_repos)\n",
    "\n",
    "split_repo = [el.split() for el in clean_repos] #splitting the list string\n",
    "#print(split_repo)\n",
    "\n",
    "for lst in split_repo: #removing and replacing spaces\n",
    "    lst.remove(\"/\")\n",
    "    final_repo = [] #creating a new list\n",
    "    for i in split_repo: \n",
    "        final_repo.append(\"\".join(i)) #looping over the split_repo and append and join the strings\n",
    "#final_repo"
   ]
  },
  {
   "cell_type": "markdown",
   "metadata": {},
   "source": [
    "#### Display all the image links from Walt Disney wikipedia page"
   ]
  },
  {
   "cell_type": "code",
   "execution_count": 12,
   "metadata": {},
   "outputs": [],
   "source": [
    "# This is the url you will scrape in this exercise\n",
    "url = 'https://en.wikipedia.org/wiki/Walt_Disney'"
   ]
  },
  {
   "cell_type": "code",
   "execution_count": 13,
   "metadata": {},
   "outputs": [],
   "source": [
    "#your code\n",
    "html = requests.get(url).content\n",
    "response = requests.get(url)\n",
    "response\n",
    "contenido = response.content\n",
    "#print(contenido)"
   ]
  },
  {
   "cell_type": "code",
   "execution_count": 14,
   "metadata": {},
   "outputs": [],
   "source": [
    "image = soup.select('img')\n",
    "#image"
   ]
  },
  {
   "cell_type": "markdown",
   "metadata": {},
   "source": [
    "#### Retrieve an arbitary Wikipedia page of \"Python\" and create a list of links on that page"
   ]
  },
  {
   "cell_type": "code",
   "execution_count": 15,
   "metadata": {},
   "outputs": [],
   "source": [
    "# This is the url you will scrape in this exercise\n",
    "url ='https://en.wikipedia.org/wiki/Python' "
   ]
  },
  {
   "cell_type": "code",
   "execution_count": 16,
   "metadata": {},
   "outputs": [],
   "source": [
    "#your code\n",
    "html = urlopen(\"https://en.wikipedia.org/wiki/Python\") #opening the html\n",
    "bsObj = BeautifulSoup(html) #getting the content\n",
    "bsObj = soup.select('a') #listing all the tags links\n",
    "\n",
    "list_links = [] #new empty list\n",
    "for link in bsObj: #looping over the tags links to get only the links\n",
    "    if 'href' in link.attrs:\n",
    "        list_links.append(link.attrs['href']) #append the links into the new empty list\n",
    "#print(list_links)"
   ]
  },
  {
   "cell_type": "markdown",
   "metadata": {},
   "source": [
    "#### Number of Titles that have changed in the United States Code since its last release point "
   ]
  },
  {
   "cell_type": "code",
   "execution_count": 33,
   "metadata": {},
   "outputs": [],
   "source": [
    "# This is the url you will scrape in this exercise\n",
    "url = 'http://uscode.house.gov/download/download.shtml'"
   ]
  },
  {
   "cell_type": "code",
   "execution_count": 34,
   "metadata": {},
   "outputs": [],
   "source": [
    "#your code\n",
    "html = requests.get(url).content\n",
    "response = requests.get(url)\n",
    "response\n",
    "contenido = response.content\n",
    "#print(contenido)"
   ]
  },
  {
   "cell_type": "code",
   "execution_count": 50,
   "metadata": {},
   "outputs": [
    {
     "data": {
      "text/plain": [
       "['Title 10 - Armed Forces ٭',\n",
       " 'Title 18 - Crimes and Criminal Procedure ٭',\n",
       " 'Title 42 - The Public Health and Welfare',\n",
       " 'Title 54 - National Park Service and Related Programs ٭']"
      ]
     },
     "execution_count": 50,
     "metadata": {},
     "output_type": "execute_result"
    }
   ],
   "source": [
    "soup = BeautifulSoup(contenido, 'xml')\n",
    "title = soup.select(\"div[class='usctitlechanged']\")\n",
    "bold_title = [el.text for el in title] \n",
    "clean_bold_title = [el.strip() for el in bold_title]\n",
    "clean_bold_title = [el.replace(\"*\",\"\") for el in clean_bold_title]\n",
    "clean_bold_title"
   ]
  },
  {
   "cell_type": "markdown",
   "metadata": {},
   "source": [
    "#### A Python list with the top ten FBI's Most Wanted names "
   ]
  },
  {
   "cell_type": "code",
   "execution_count": 52,
   "metadata": {},
   "outputs": [],
   "source": [
    "# This is the url you will scrape in this exercise\n",
    "url = 'https://www.fbi.gov/wanted/topten'"
   ]
  },
  {
   "cell_type": "code",
   "execution_count": 53,
   "metadata": {},
   "outputs": [
    {
     "data": {
      "text/plain": [
       "['YULAN ADONAY ARCHAGA CARIAS',\n",
       " 'EUGENE PALMER',\n",
       " 'BHADRESHKUMAR CHETANBHAI PATEL',\n",
       " 'ALEJANDRO ROSALES CASTILLO',\n",
       " 'ARNOLDO JIMENEZ',\n",
       " 'JASON DEREK BROWN',\n",
       " 'ALEXIS FLORES',\n",
       " 'JOSE RODOLFO VILLARREAL-HERNANDEZ',\n",
       " 'RAFAEL CARO-QUINTERO',\n",
       " 'OCTAVIANO JUAREZ-CORRO',\n",
       " 'federal bureau of investigation',\n",
       " 'FBI.gov Contact Center']"
      ]
     },
     "execution_count": 53,
     "metadata": {},
     "output_type": "execute_result"
    }
   ],
   "source": [
    "#your code \n",
    "html = requests.get(url).content #getting the fbi url content\n",
    "response = requests.get(url)\n",
    "#response\n",
    "contenido_fbi = response.content\n",
    "#print(contenido_fbi)\n",
    "fbi_wanted = BeautifulSoup(contenido_fbi, 'lxml')\n",
    "fbi_wanted_tag = fbi_wanted.findAll(\"h3\") #filter the tags and class of top 10 names\n",
    "\n",
    "top_wanted_names = [el.text for el in fbi_wanted_tag] #getting the names\n",
    "\n",
    "top_clean_names = [el.strip() for el in top_wanted_names] #cleaning the top 10 list\n",
    "top_clean_names"
   ]
  },
  {
   "cell_type": "markdown",
   "metadata": {},
   "source": [
    "####  20 latest earthquakes info (date, time, latitude, longitude and region name) by the EMSC as a pandas dataframe"
   ]
  },
  {
   "cell_type": "code",
   "execution_count": 58,
   "metadata": {},
   "outputs": [],
   "source": [
    "# This is the url you will scrape in this exercise\n",
    "url = 'https://www.emsc-csem.org/Earthquake/'"
   ]
  },
  {
   "cell_type": "code",
   "execution_count": 70,
   "metadata": {},
   "outputs": [
    {
     "data": {
      "text/html": [
       "<div>\n",
       "<style scoped>\n",
       "    .dataframe tbody tr th:only-of-type {\n",
       "        vertical-align: middle;\n",
       "    }\n",
       "\n",
       "    .dataframe tbody tr th {\n",
       "        vertical-align: top;\n",
       "    }\n",
       "\n",
       "    .dataframe thead th {\n",
       "        text-align: right;\n",
       "    }\n",
       "</style>\n",
       "<table border=\"1\" class=\"dataframe\">\n",
       "  <thead>\n",
       "    <tr style=\"text-align: right;\">\n",
       "      <th></th>\n",
       "      <th>Date &amp; Time UTC</th>\n",
       "      <th>Latitude degrees</th>\n",
       "      <th>N-S</th>\n",
       "      <th>Longitude degrees</th>\n",
       "      <th>W-E</th>\n",
       "      <th>Region Name</th>\n",
       "    </tr>\n",
       "  </thead>\n",
       "  <tbody>\n",
       "    <tr>\n",
       "      <th>0</th>\n",
       "      <td>2022-04-07 00:56:27.544min ago</td>\n",
       "      <td>38.04</td>\n",
       "      <td>N</td>\n",
       "      <td>1.15</td>\n",
       "      <td>W</td>\n",
       "      <td>SPAIN</td>\n",
       "    </tr>\n",
       "    <tr>\n",
       "      <th>1</th>\n",
       "      <td>2022-04-07 00:55:26.745min ago</td>\n",
       "      <td>38.31</td>\n",
       "      <td>N</td>\n",
       "      <td>23.37</td>\n",
       "      <td>E</td>\n",
       "      <td>GREECE</td>\n",
       "    </tr>\n",
       "    <tr>\n",
       "      <th>2</th>\n",
       "      <td>2022-04-07 00:55:18.445min ago</td>\n",
       "      <td>38.20</td>\n",
       "      <td>N</td>\n",
       "      <td>117.86</td>\n",
       "      <td>W</td>\n",
       "      <td>NEVADA</td>\n",
       "    </tr>\n",
       "    <tr>\n",
       "      <th>3</th>\n",
       "      <td>2022-04-07 00:49:59.051min ago</td>\n",
       "      <td>14.90</td>\n",
       "      <td>N</td>\n",
       "      <td>93.30</td>\n",
       "      <td>W</td>\n",
       "      <td>OFFSHORE CHIAPAS, MEXICO</td>\n",
       "    </tr>\n",
       "    <tr>\n",
       "      <th>4</th>\n",
       "      <td>2022-04-07 00:37:59.81hr 03min ago</td>\n",
       "      <td>36.38</td>\n",
       "      <td>N</td>\n",
       "      <td>30.96</td>\n",
       "      <td>E</td>\n",
       "      <td>WESTERN TURKEY</td>\n",
       "    </tr>\n",
       "    <tr>\n",
       "      <th>5</th>\n",
       "      <td>2022-04-07 00:37:23.01hr 03min ago</td>\n",
       "      <td>38.68</td>\n",
       "      <td>N</td>\n",
       "      <td>28.15</td>\n",
       "      <td>W</td>\n",
       "      <td>AZORES ISLANDS, PORTUGAL</td>\n",
       "    </tr>\n",
       "    <tr>\n",
       "      <th>6</th>\n",
       "      <td>2022-04-07 00:36:57.01hr 04min ago</td>\n",
       "      <td>14.26</td>\n",
       "      <td>N</td>\n",
       "      <td>119.39</td>\n",
       "      <td>E</td>\n",
       "      <td>LUZON, PHILIPPINES</td>\n",
       "    </tr>\n",
       "    <tr>\n",
       "      <th>7</th>\n",
       "      <td>2022-04-07 00:30:35.31hr 10min ago</td>\n",
       "      <td>34.88</td>\n",
       "      <td>N</td>\n",
       "      <td>137.43</td>\n",
       "      <td>E</td>\n",
       "      <td>NEAR S. COAST OF HONSHU, JAPAN</td>\n",
       "    </tr>\n",
       "    <tr>\n",
       "      <th>8</th>\n",
       "      <td>2022-04-07 00:25:58.91hr 15min ago</td>\n",
       "      <td>60.18</td>\n",
       "      <td>N</td>\n",
       "      <td>152.95</td>\n",
       "      <td>W</td>\n",
       "      <td>SOUTHERN ALASKA</td>\n",
       "    </tr>\n",
       "    <tr>\n",
       "      <th>9</th>\n",
       "      <td>2022-04-07 00:17:00.01hr 24min ago</td>\n",
       "      <td>3.85</td>\n",
       "      <td>S</td>\n",
       "      <td>122.62</td>\n",
       "      <td>E</td>\n",
       "      <td>SULAWESI, INDONESIA</td>\n",
       "    </tr>\n",
       "    <tr>\n",
       "      <th>10</th>\n",
       "      <td>2022-04-07 00:11:59.01hr 29min ago</td>\n",
       "      <td>3.02</td>\n",
       "      <td>S</td>\n",
       "      <td>128.48</td>\n",
       "      <td>E</td>\n",
       "      <td>SERAM, INDONESIA</td>\n",
       "    </tr>\n",
       "    <tr>\n",
       "      <th>11</th>\n",
       "      <td>2022-04-07 00:03:51.01hr 37min ago</td>\n",
       "      <td>9.74</td>\n",
       "      <td>S</td>\n",
       "      <td>111.55</td>\n",
       "      <td>E</td>\n",
       "      <td>SOUTH OF JAVA, INDONESIA</td>\n",
       "    </tr>\n",
       "    <tr>\n",
       "      <th>12</th>\n",
       "      <td>NaN</td>\n",
       "      <td>NaN</td>\n",
       "      <td>NaN</td>\n",
       "      <td>NaN</td>\n",
       "      <td>NaN</td>\n",
       "      <td>NaN</td>\n",
       "    </tr>\n",
       "    <tr>\n",
       "      <th>13</th>\n",
       "      <td>NaN</td>\n",
       "      <td>NaN</td>\n",
       "      <td>NaN</td>\n",
       "      <td>NaN</td>\n",
       "      <td>NaN</td>\n",
       "      <td>NaN</td>\n",
       "    </tr>\n",
       "    <tr>\n",
       "      <th>14</th>\n",
       "      <td>NaN</td>\n",
       "      <td>NaN</td>\n",
       "      <td>NaN</td>\n",
       "      <td>NaN</td>\n",
       "      <td>NaN</td>\n",
       "      <td>NaN</td>\n",
       "    </tr>\n",
       "    <tr>\n",
       "      <th>15</th>\n",
       "      <td>2022-04-06 23:37:09.12hr 03min ago</td>\n",
       "      <td>19.24</td>\n",
       "      <td>N</td>\n",
       "      <td>155.40</td>\n",
       "      <td>W</td>\n",
       "      <td>ISLAND OF HAWAII, HAWAII</td>\n",
       "    </tr>\n",
       "    <tr>\n",
       "      <th>16</th>\n",
       "      <td>2022-04-06 23:32:48.02hr 08min ago</td>\n",
       "      <td>27.20</td>\n",
       "      <td>S</td>\n",
       "      <td>69.38</td>\n",
       "      <td>W</td>\n",
       "      <td>ATACAMA, CHILE</td>\n",
       "    </tr>\n",
       "    <tr>\n",
       "      <th>17</th>\n",
       "      <td>2022-04-06 23:29:46.02hr 11min ago</td>\n",
       "      <td>37.58</td>\n",
       "      <td>N</td>\n",
       "      <td>118.87</td>\n",
       "      <td>W</td>\n",
       "      <td>CENTRAL CALIFORNIA</td>\n",
       "    </tr>\n",
       "    <tr>\n",
       "      <th>18</th>\n",
       "      <td>2022-04-06 23:11:30.02hr 29min ago</td>\n",
       "      <td>9.60</td>\n",
       "      <td>N</td>\n",
       "      <td>84.85</td>\n",
       "      <td>W</td>\n",
       "      <td>COSTA RICA</td>\n",
       "    </tr>\n",
       "    <tr>\n",
       "      <th>19</th>\n",
       "      <td>2022-04-06 22:59:40.02hr 41min ago</td>\n",
       "      <td>38.68</td>\n",
       "      <td>N</td>\n",
       "      <td>28.18</td>\n",
       "      <td>W</td>\n",
       "      <td>AZORES ISLANDS, PORTUGAL</td>\n",
       "    </tr>\n",
       "  </tbody>\n",
       "</table>\n",
       "</div>"
      ],
      "text/plain": [
       "                       Date & Time UTC Latitude degrees  N-S  \\\n",
       "0       2022-04-07 00:56:27.544min ago            38.04    N   \n",
       "1       2022-04-07 00:55:26.745min ago            38.31    N   \n",
       "2       2022-04-07 00:55:18.445min ago            38.20    N   \n",
       "3       2022-04-07 00:49:59.051min ago            14.90    N   \n",
       "4   2022-04-07 00:37:59.81hr 03min ago            36.38    N   \n",
       "5   2022-04-07 00:37:23.01hr 03min ago            38.68    N   \n",
       "6   2022-04-07 00:36:57.01hr 04min ago            14.26    N   \n",
       "7   2022-04-07 00:30:35.31hr 10min ago            34.88    N   \n",
       "8   2022-04-07 00:25:58.91hr 15min ago            60.18    N   \n",
       "9   2022-04-07 00:17:00.01hr 24min ago             3.85    S   \n",
       "10  2022-04-07 00:11:59.01hr 29min ago             3.02    S   \n",
       "11  2022-04-07 00:03:51.01hr 37min ago             9.74    S   \n",
       "12                                 NaN              NaN  NaN   \n",
       "13                                 NaN              NaN  NaN   \n",
       "14                                 NaN              NaN  NaN   \n",
       "15  2022-04-06 23:37:09.12hr 03min ago            19.24    N   \n",
       "16  2022-04-06 23:32:48.02hr 08min ago            27.20    S   \n",
       "17  2022-04-06 23:29:46.02hr 11min ago            37.58    N   \n",
       "18  2022-04-06 23:11:30.02hr 29min ago             9.60    N   \n",
       "19  2022-04-06 22:59:40.02hr 41min ago            38.68    N   \n",
       "\n",
       "   Longitude degrees  W-E                     Region Name  \n",
       "0               1.15    W                           SPAIN  \n",
       "1              23.37    E                          GREECE  \n",
       "2             117.86    W                          NEVADA  \n",
       "3              93.30    W        OFFSHORE CHIAPAS, MEXICO  \n",
       "4              30.96    E                  WESTERN TURKEY  \n",
       "5              28.15    W        AZORES ISLANDS, PORTUGAL  \n",
       "6             119.39    E              LUZON, PHILIPPINES  \n",
       "7             137.43    E  NEAR S. COAST OF HONSHU, JAPAN  \n",
       "8             152.95    W                 SOUTHERN ALASKA  \n",
       "9             122.62    E             SULAWESI, INDONESIA  \n",
       "10            128.48    E                SERAM, INDONESIA  \n",
       "11            111.55    E        SOUTH OF JAVA, INDONESIA  \n",
       "12               NaN  NaN                             NaN  \n",
       "13               NaN  NaN                             NaN  \n",
       "14               NaN  NaN                             NaN  \n",
       "15            155.40    W        ISLAND OF HAWAII, HAWAII  \n",
       "16             69.38    W                  ATACAMA, CHILE  \n",
       "17            118.87    W              CENTRAL CALIFORNIA  \n",
       "18             84.85    W                      COSTA RICA  \n",
       "19             28.18    W        AZORES ISLANDS, PORTUGAL  "
      ]
     },
     "execution_count": 70,
     "metadata": {},
     "output_type": "execute_result"
    }
   ],
   "source": [
    "#your code\n",
    "html = requests.get(url).content\n",
    "soup = BeautifulSoup(html,'lxml')\n",
    "#soup\n",
    "table= pd.read_html(html)\n",
    "table[3]\n",
    "data_frame = table[3]\n",
    "data_frame2 = data_frame[['Date & Time UTC','Latitude degrees','Longitude degrees','Last update [-]']]\n",
    "data_frame2.columns = ['Date & Time UTC','Latitude degrees','N-S','Longitude degrees','W-E','Region Name']\n",
    "data_frame2 = data_frame2.head(20)\n",
    "data_frame2"
   ]
  },
  {
   "cell_type": "markdown",
   "metadata": {},
   "source": [
    "#### Display the date, days, title, city, country of next 25 hackathon events as a Pandas dataframe table"
   ]
  },
  {
   "cell_type": "code",
   "execution_count": null,
   "metadata": {},
   "outputs": [],
   "source": [
    "# This is the url you will scrape in this exercise\n",
    "url ='https://hackevents.co/hackathons'"
   ]
  },
  {
   "cell_type": "code",
   "execution_count": null,
   "metadata": {},
   "outputs": [],
   "source": [
    "#your code"
   ]
  },
  {
   "cell_type": "markdown",
   "metadata": {},
   "source": [
    "#### Count number of tweets by a given Twitter account."
   ]
  },
  {
   "cell_type": "markdown",
   "metadata": {},
   "source": [
    "You will need to include a ***try/except block*** for account names not found. \n",
    "<br>***Hint:*** the program should count the number of tweets for any provided account"
   ]
  },
  {
   "cell_type": "code",
   "execution_count": null,
   "metadata": {},
   "outputs": [],
   "source": [
    "# This is the url you will scrape in this exercise \n",
    "# You will need to add the account credentials to this url\n",
    "url = 'https://twitter.com/'"
   ]
  },
  {
   "cell_type": "code",
   "execution_count": null,
   "metadata": {},
   "outputs": [],
   "source": [
    "#your code"
   ]
  },
  {
   "cell_type": "markdown",
   "metadata": {},
   "source": [
    "#### Number of followers of a given twitter account"
   ]
  },
  {
   "cell_type": "markdown",
   "metadata": {},
   "source": [
    "You will need to include a ***try/except block*** in case account/s name not found. \n",
    "<br>***Hint:*** the program should count the followers for any provided account"
   ]
  },
  {
   "cell_type": "code",
   "execution_count": null,
   "metadata": {},
   "outputs": [],
   "source": [
    "# This is the url you will scrape in this exercise \n",
    "# You will need to add the account credentials to this url\n",
    "url = 'https://twitter.com/'"
   ]
  },
  {
   "cell_type": "code",
   "execution_count": null,
   "metadata": {},
   "outputs": [],
   "source": [
    "#your code"
   ]
  },
  {
   "cell_type": "markdown",
   "metadata": {},
   "source": [
    "#### List all language names and number of related articles in the order they appear in wikipedia.org"
   ]
  },
  {
   "cell_type": "code",
   "execution_count": 71,
   "metadata": {},
   "outputs": [],
   "source": [
    "# This is the url you will scrape in this exercise\n",
    "url = 'https://www.wikipedia.org/'"
   ]
  },
  {
   "cell_type": "code",
   "execution_count": 72,
   "metadata": {},
   "outputs": [
    {
     "data": {
      "text/plain": [
       "['English 6458000',\n",
       " 'Русский 1798000',\n",
       " '日本語 1314000',\n",
       " 'Español 1755000',\n",
       " 'Deutsch 2667000',\n",
       " 'Français 2400000',\n",
       " '中文 1256000',\n",
       " 'Italiano 1742000',\n",
       " 'Português 1085000',\n",
       " 'Polski 1512000']"
      ]
     },
     "execution_count": 72,
     "metadata": {},
     "output_type": "execute_result"
    }
   ],
   "source": [
    "#your code\n",
    "html = requests.get(url).content\n",
    "soup = BeautifulSoup(html,'lxml')\n",
    "titles = soup.select(\"div a strong\")\n",
    "title_text = [el.text for el in titles]\n",
    "title2 = soup.select(\"small bdi\") \n",
    "titles=[title.replace(\"<strong>\",\"\") for title in title_text]\n",
    "titles=[title.replace(\"</strong>\",\"\") for title in title_text]\n",
    "title2 = list(title2)\n",
    "title2 = [str(tit) for tit in title2]\n",
    "title2 = [(re.findall(r'\\d+',tit)) for tit in title2]\n",
    "title3=[]\n",
    "string=\"\"\n",
    "for i in title2:\n",
    "    string=\"\"\n",
    "    for j in range(len(i)):\n",
    "        string=string+i[j]\n",
    "    title3.append(string)\n",
    "    \n",
    "titlefinal=[]\n",
    "for i in range(len(titles)):\n",
    "    titlefinal.append(titles[i] + \" \" + title3[i])\n",
    "    \n",
    "titlefinal\n"
   ]
  },
  {
   "cell_type": "markdown",
   "metadata": {},
   "source": [
    "#### A list with the different kind of datasets available in data.gov.uk "
   ]
  },
  {
   "cell_type": "code",
   "execution_count": 73,
   "metadata": {},
   "outputs": [],
   "source": [
    "# This is the url you will scrape in this exercise\n",
    "url = 'https://data.gov.uk/'"
   ]
  },
  {
   "cell_type": "code",
   "execution_count": 74,
   "metadata": {},
   "outputs": [
    {
     "data": {
      "text/plain": [
       "['Business and economy',\n",
       " 'Crime and justice',\n",
       " 'Defence',\n",
       " 'Education',\n",
       " 'Environment',\n",
       " 'Government',\n",
       " 'Government spending',\n",
       " 'Health',\n",
       " 'Mapping',\n",
       " 'Society',\n",
       " 'Towns and cities',\n",
       " 'Transport',\n",
       " 'Digital service performance',\n",
       " 'Government reference data']"
      ]
     },
     "execution_count": 74,
     "metadata": {},
     "output_type": "execute_result"
    }
   ],
   "source": [
    "#your code \n",
    "html = requests.get(url).content\n",
    "soup = BeautifulSoup(html,'lxml')\n",
    "titles = soup.select(\"h3 a.govuk-link\")\n",
    "title_text = [el.text for el in titles]\n",
    "title_text"
   ]
  },
  {
   "cell_type": "markdown",
   "metadata": {},
   "source": [
    "#### Top 10 languages by number of native speakers stored in a Pandas Dataframe"
   ]
  },
  {
   "cell_type": "code",
   "execution_count": 75,
   "metadata": {},
   "outputs": [],
   "source": [
    "# This is the url you will scrape in this exercise\n",
    "url = 'https://en.wikipedia.org/wiki/List_of_languages_by_number_of_native_speakers'"
   ]
  },
  {
   "cell_type": "code",
   "execution_count": 76,
   "metadata": {},
   "outputs": [
    {
     "data": {
      "text/html": [
       "<div>\n",
       "<style scoped>\n",
       "    .dataframe tbody tr th:only-of-type {\n",
       "        vertical-align: middle;\n",
       "    }\n",
       "\n",
       "    .dataframe tbody tr th {\n",
       "        vertical-align: top;\n",
       "    }\n",
       "\n",
       "    .dataframe thead th {\n",
       "        text-align: right;\n",
       "    }\n",
       "</style>\n",
       "<table border=\"1\" class=\"dataframe\">\n",
       "  <thead>\n",
       "    <tr style=\"text-align: right;\">\n",
       "      <th></th>\n",
       "      <th>Rank</th>\n",
       "      <th>Language</th>\n",
       "      <th>Nativespeakersin millions2007 (2010)</th>\n",
       "      <th>Percentageof worldpopulation(2007)</th>\n",
       "    </tr>\n",
       "  </thead>\n",
       "  <tbody>\n",
       "    <tr>\n",
       "      <th>0</th>\n",
       "      <td>1</td>\n",
       "      <td>Mandarin (entire branch)</td>\n",
       "      <td>935 (955)</td>\n",
       "      <td>14.1%</td>\n",
       "    </tr>\n",
       "    <tr>\n",
       "      <th>1</th>\n",
       "      <td>2</td>\n",
       "      <td>Spanish</td>\n",
       "      <td>390 (405)</td>\n",
       "      <td>5.85%</td>\n",
       "    </tr>\n",
       "    <tr>\n",
       "      <th>2</th>\n",
       "      <td>3</td>\n",
       "      <td>English</td>\n",
       "      <td>365 (360)</td>\n",
       "      <td>5.52%</td>\n",
       "    </tr>\n",
       "    <tr>\n",
       "      <th>3</th>\n",
       "      <td>4</td>\n",
       "      <td>Hindi[b]</td>\n",
       "      <td>295 (310)</td>\n",
       "      <td>4.46%</td>\n",
       "    </tr>\n",
       "    <tr>\n",
       "      <th>4</th>\n",
       "      <td>5</td>\n",
       "      <td>Arabic</td>\n",
       "      <td>280 (295)</td>\n",
       "      <td>4.23%</td>\n",
       "    </tr>\n",
       "    <tr>\n",
       "      <th>5</th>\n",
       "      <td>6</td>\n",
       "      <td>Portuguese</td>\n",
       "      <td>205 (215)</td>\n",
       "      <td>3.08%</td>\n",
       "    </tr>\n",
       "    <tr>\n",
       "      <th>6</th>\n",
       "      <td>7</td>\n",
       "      <td>Bengali</td>\n",
       "      <td>200 (205)</td>\n",
       "      <td>3.05%</td>\n",
       "    </tr>\n",
       "    <tr>\n",
       "      <th>7</th>\n",
       "      <td>8</td>\n",
       "      <td>Russian</td>\n",
       "      <td>160 (155)</td>\n",
       "      <td>2.42%</td>\n",
       "    </tr>\n",
       "    <tr>\n",
       "      <th>8</th>\n",
       "      <td>9</td>\n",
       "      <td>Japanese</td>\n",
       "      <td>125 (125)</td>\n",
       "      <td>1.92%</td>\n",
       "    </tr>\n",
       "    <tr>\n",
       "      <th>9</th>\n",
       "      <td>10</td>\n",
       "      <td>Punjabi</td>\n",
       "      <td>95 (100)</td>\n",
       "      <td>1.44%</td>\n",
       "    </tr>\n",
       "  </tbody>\n",
       "</table>\n",
       "</div>"
      ],
      "text/plain": [
       "  Rank                  Language Nativespeakersin millions2007 (2010)  \\\n",
       "0    1  Mandarin (entire branch)                            935 (955)   \n",
       "1    2                   Spanish                            390 (405)   \n",
       "2    3                   English                            365 (360)   \n",
       "3    4                  Hindi[b]                            295 (310)   \n",
       "4    5                    Arabic                            280 (295)   \n",
       "5    6                Portuguese                            205 (215)   \n",
       "6    7                   Bengali                            200 (205)   \n",
       "7    8                   Russian                            160 (155)   \n",
       "8    9                  Japanese                            125 (125)   \n",
       "9   10                   Punjabi                             95 (100)   \n",
       "\n",
       "  Percentageof worldpopulation(2007)  \n",
       "0                              14.1%  \n",
       "1                              5.85%  \n",
       "2                              5.52%  \n",
       "3                              4.46%  \n",
       "4                              4.23%  \n",
       "5                              3.08%  \n",
       "6                              3.05%  \n",
       "7                              2.42%  \n",
       "8                              1.92%  \n",
       "9                              1.44%  "
      ]
     },
     "execution_count": 76,
     "metadata": {},
     "output_type": "execute_result"
    }
   ],
   "source": [
    "#your code\n",
    "html = requests.get(url).content\n",
    "soup = BeautifulSoup(html,'lxml')\n",
    "table= pd.read_html(html)\n",
    "idiomas = table[3].head(10)\n",
    "idiomas"
   ]
  },
  {
   "cell_type": "markdown",
   "metadata": {},
   "source": [
    "### BONUS QUESTIONS"
   ]
  },
  {
   "cell_type": "markdown",
   "metadata": {},
   "source": [
    "#### Scrape a certain number of tweets of a given Twitter account."
   ]
  },
  {
   "cell_type": "code",
   "execution_count": null,
   "metadata": {},
   "outputs": [],
   "source": [
    "# This is the url you will scrape in this exercise \n",
    "# You will need to add the account credentials to this url\n",
    "url = 'https://twitter.com/'"
   ]
  },
  {
   "cell_type": "code",
   "execution_count": null,
   "metadata": {},
   "outputs": [],
   "source": [
    "# your code"
   ]
  },
  {
   "cell_type": "markdown",
   "metadata": {},
   "source": [
    "#### IMDB's Top 250 data (movie name, Initial release, director name and stars) as a pandas dataframe"
   ]
  },
  {
   "cell_type": "code",
   "execution_count": null,
   "metadata": {},
   "outputs": [],
   "source": [
    "# This is the url you will scrape in this exercise \n",
    "url = 'https://www.imdb.com/chart/top'"
   ]
  },
  {
   "cell_type": "code",
   "execution_count": null,
   "metadata": {},
   "outputs": [],
   "source": [
    "# your code"
   ]
  },
  {
   "cell_type": "markdown",
   "metadata": {},
   "source": [
    "#### Movie name, year and a brief summary of the top 10 random movies (IMDB) as a pandas dataframe."
   ]
  },
  {
   "cell_type": "code",
   "execution_count": null,
   "metadata": {},
   "outputs": [],
   "source": [
    "#This is the url you will scrape in this exercise\n",
    "url = 'http://www.imdb.com/chart/top'"
   ]
  },
  {
   "cell_type": "code",
   "execution_count": null,
   "metadata": {},
   "outputs": [],
   "source": [
    "#your code"
   ]
  },
  {
   "cell_type": "markdown",
   "metadata": {},
   "source": [
    "#### Find the live weather report (temperature, wind speed, description and weather) of a given city."
   ]
  },
  {
   "cell_type": "code",
   "execution_count": null,
   "metadata": {},
   "outputs": [],
   "source": [
    "#https://openweathermap.org/current\n",
    "city = city=input('Enter the city:')\n",
    "url = 'http://api.openweathermap.org/data/2.5/weather?'+'q='+city+'&APPID=b35975e18dc93725acb092f7272cc6b8&units=metric'"
   ]
  },
  {
   "cell_type": "code",
   "execution_count": null,
   "metadata": {},
   "outputs": [],
   "source": [
    "# your code"
   ]
  },
  {
   "cell_type": "markdown",
   "metadata": {},
   "source": [
    "#### Book name,price and stock availability as a pandas dataframe."
   ]
  },
  {
   "cell_type": "code",
   "execution_count": null,
   "metadata": {},
   "outputs": [],
   "source": [
    "# This is the url you will scrape in this exercise. \n",
    "# It is a fictional bookstore created to be scraped. \n",
    "url = 'http://books.toscrape.com/'"
   ]
  },
  {
   "cell_type": "code",
   "execution_count": null,
   "metadata": {},
   "outputs": [],
   "source": [
    "#your code"
   ]
  }
 ],
 "metadata": {
  "kernelspec": {
   "display_name": "Python 3 (ipykernel)",
   "language": "python",
   "name": "python3"
  },
  "language_info": {
   "codemirror_mode": {
    "name": "ipython",
    "version": 3
   },
   "file_extension": ".py",
   "mimetype": "text/x-python",
   "name": "python",
   "nbconvert_exporter": "python",
   "pygments_lexer": "ipython3",
   "version": "3.10.3"
  }
 },
 "nbformat": 4,
 "nbformat_minor": 2
}
