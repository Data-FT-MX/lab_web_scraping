{
 "cells": [
  {
   "cell_type": "code",
   "execution_count": 1,
   "id": "031c8084",
   "metadata": {},
   "outputs": [],
   "source": [
    "#from IPython.core.display import"
   ]
  },
  {
   "cell_type": "code",
   "execution_count": 2,
   "id": "84bce41f",
   "metadata": {},
   "outputs": [],
   "source": [
    "import re "
   ]
  },
  {
   "cell_type": "markdown",
   "id": "4e6c5ae6",
   "metadata": {},
   "source": [
    "### Robots.txt\n",
    "Nos va a informar que se puede scrapear de un sitio y que no.\n",
    "\n",
    "https://github.com/robots.txt"
   ]
  },
  {
   "cell_type": "markdown",
   "id": "168b4c2c",
   "metadata": {},
   "source": [
    "### User-agent"
   ]
  },
  {
   "cell_type": "markdown",
   "id": "32eceaa1",
   "metadata": {},
   "source": [
    "### Selenium"
   ]
  },
  {
   "cell_type": "code",
   "execution_count": 5,
   "id": "76efa23f",
   "metadata": {},
   "outputs": [],
   "source": [
    "from selenium import webdriver\n",
    "from selenium.webdriver.common.keys import Keys"
   ]
  },
  {
   "cell_type": "code",
   "execution_count": 6,
   "id": "4adcbaf5",
   "metadata": {},
   "outputs": [],
   "source": [
    "#Ejemplo de la documentacion\n",
    "\n",
    "driver = webdriver.Chrome(r\"C:\\Program Files\\dChrome\\chromedriver.exe\")\n",
    "\n",
    "driver.get('https://python.org')"
   ]
  },
  {
   "cell_type": "code",
   "execution_count": null,
   "id": "796e5f17",
   "metadata": {},
   "outputs": [],
   "source": []
  }
 ],
 "metadata": {
  "kernelspec": {
   "display_name": "Python 3 (ipykernel)",
   "language": "python",
   "name": "python3"
  },
  "language_info": {
   "codemirror_mode": {
    "name": "ipython",
    "version": 3
   },
   "file_extension": ".py",
   "mimetype": "text/x-python",
   "name": "python",
   "nbconvert_exporter": "python",
   "pygments_lexer": "ipython3",
   "version": "3.9.6"
  }
 },
 "nbformat": 4,
 "nbformat_minor": 5
}
